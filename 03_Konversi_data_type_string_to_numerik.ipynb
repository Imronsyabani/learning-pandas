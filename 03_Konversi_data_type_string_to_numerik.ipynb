{
 "cells": [
  {
   "cell_type": "code",
   "execution_count": null,
   "metadata": {},
   "outputs": [],
   "source": [
    "import pandas as pd\n",
    "import numpy as np\n",
    "\n",
    "n_rows = 5\n",
    "n_col = 5\n",
    "cols = ('A','B','C','D','E')\n",
    "df = pd.DataFrame(np.random.randint(1,5,size=(n_rows,n_col)),columns=cols)\n",
    "# basic logic operator OR pada pandas\n",
    "# print(df[(df['A'] == 1) | (df['B'] == 3)])\n",
    "\n",
    "# Logic Operator OR pada pandas\n",
    "# print(df[(df['A'].isin([1,2]))])\n",
    "\n",
    "# Logic Operator Not pada pandas menggunakan tanda tilde (~)\n",
    "print(df[~df['A'].isin([1,2])]) "
   ]
  }
 ],
 "metadata": {
  "kernelspec": {
   "display_name": "Python 3.8.10 ('env': venv)",
   "language": "python",
   "name": "python3"
  },
  "language_info": {
   "name": "python",
   "version": "3.8.10"
  },
  "orig_nbformat": 4,
  "vscode": {
   "interpreter": {
    "hash": "3a6ac99d405ea7adc689db70b6bfdd43dde2d8e994850a43d72c974ee7b3e8b5"
   }
  }
 },
 "nbformat": 4,
 "nbformat_minor": 2
}
