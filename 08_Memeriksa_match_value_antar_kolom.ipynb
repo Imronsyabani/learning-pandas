{
 "cells": [
  {
   "cell_type": "code",
   "execution_count": 9,
   "metadata": {},
   "outputs": [
    {
     "name": "stdout",
     "output_type": "stream",
     "text": [
      "True\n"
     ]
    }
   ],
   "source": [
    "import pandas as pd\n",
    "import numpy as np\n",
    "\n",
    "data = {'A':[15,15,18,np.nan,12],\n",
    "        'B':[15,15,18,np.nan,12]\n",
    "        }\n",
    "\n",
    "df = pd.DataFrame(data)\n",
    "#type pada pandas\n",
    "# type(df['A']) <-- Series <class 'pandas.core.series.Series'>\n",
    "# type(df) <-- <class 'pandas.core.frame.DataFrame'>\n",
    "\n",
    "# menggunakan equals untuk mengecek value pada column apakah sama?\n",
    "# print(df['A'].equals(df['B']))"
   ]
  }
 ],
 "metadata": {
  "kernelspec": {
   "display_name": "Python 3.8.10 ('env': venv)",
   "language": "python",
   "name": "python3"
  },
  "language_info": {
   "codemirror_mode": {
    "name": "ipython",
    "version": 3
   },
   "file_extension": ".py",
   "mimetype": "text/x-python",
   "name": "python",
   "nbconvert_exporter": "python",
   "pygments_lexer": "ipython3",
   "version": "3.8.10"
  },
  "orig_nbformat": 4,
  "vscode": {
   "interpreter": {
    "hash": "3a6ac99d405ea7adc689db70b6bfdd43dde2d8e994850a43d72c974ee7b3e8b5"
   }
  }
 },
 "nbformat": 4,
 "nbformat_minor": 2
}
