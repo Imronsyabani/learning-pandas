{
 "cells": [
  {
   "cell_type": "code",
   "execution_count": 1,
   "metadata": {},
   "outputs": [
    {
     "name": "stdout",
     "output_type": "stream",
     "text": [
      "    A   B   C   D   E\n",
      "0  19   8   2  16  10\n",
      "1   9   6  10  18   4\n",
      "2   6   2  13  10  11\n",
      "3  15  13   5   7  19\n",
      "4  14  12   4  12  14\n",
      "5  12  18  10  19   7\n",
      "6  12   3  10   6   9\n",
      "7  16   5   4  13   8\n",
      "8  19  18  18   7  16\n",
      "9  17   9   9  16  15\n"
     ]
    }
   ],
   "source": [
    "import pandas as pd\n",
    "import numpy as np\n",
    "\n",
    "n_rows = 10\n",
    "n_cols = 5\n",
    "cols = tuple('ABCDE')\n",
    "df = pd.DataFrame(np.random.randint(1,20,size=(n_rows,n_cols)),columns=cols)"
   ]
  },
  {
   "cell_type": "code",
   "execution_count": 3,
   "metadata": {},
   "outputs": [
    {
     "data": {
      "text/plain": [
       "(10, 5)"
      ]
     },
     "execution_count": 3,
     "metadata": {},
     "output_type": "execute_result"
    }
   ],
   "source": [
    "# shape: untuk mengetahui ada berapa baris dan kolom contoh --> (10 baris, 5 kolom)\n",
    "df.shape"
   ]
  },
  {
   "cell_type": "code",
   "execution_count": 6,
   "metadata": {},
   "outputs": [
    {
     "name": "stdout",
     "output_type": "stream",
     "text": [
      "(7, 5)\n"
     ]
    },
    {
     "data": {
      "text/plain": [
       "(3, 5)"
      ]
     },
     "execution_count": 6,
     "metadata": {},
     "output_type": "execute_result"
    }
   ],
   "source": [
    "proporsi = 0.7 \n",
    "# sample: berfungsi untuk mengambil baris secara acak berdasarkan parameter fract dengan proporsi sebanyak 70% atau 0.7\n",
    "df_1 = df.sample(frac=proporsi)\n",
    "df_2 = df.drop(df_1.index)\n",
    "\n",
    "print(df_1.shape)\n",
    "(df_2.shape)"
   ]
  },
  {
   "cell_type": "code",
   "execution_count": 10,
   "metadata": {},
   "outputs": [
    {
     "name": "stdout",
     "output_type": "stream",
     "text": [
      "    A   B   C   D   E\n",
      "1   9   6  10  18   4\n",
      "3  15  13   5   7  19\n",
      "4  14  12   4  12  14\n",
      "0  19   8   2  16  10\n",
      "2   6   2  13  10  11\n",
      "7  16   5   4  13   8\n",
      "6  12   3  10   6   9\n",
      "\n",
      "\n",
      "    A   B   C   D   E\n",
      "5  12  18  10  19   7\n",
      "8  19  18  18   7  16\n",
      "9  17   9   9  16  15\n"
     ]
    }
   ],
   "source": [
    "print(df_1)\n",
    "print(\"\\n\")\n",
    "print(df_2)"
   ]
  }
 ],
 "metadata": {
  "kernelspec": {
   "display_name": "Python 3.8.10 ('env': venv)",
   "language": "python",
   "name": "python3"
  },
  "language_info": {
   "codemirror_mode": {
    "name": "ipython",
    "version": 3
   },
   "file_extension": ".py",
   "mimetype": "text/x-python",
   "name": "python",
   "nbconvert_exporter": "python",
   "pygments_lexer": "ipython3",
   "version": "3.8.10"
  },
  "orig_nbformat": 4,
  "vscode": {
   "interpreter": {
    "hash": "3a6ac99d405ea7adc689db70b6bfdd43dde2d8e994850a43d72c974ee7b3e8b5"
   }
  }
 },
 "nbformat": 4,
 "nbformat_minor": 2
}
