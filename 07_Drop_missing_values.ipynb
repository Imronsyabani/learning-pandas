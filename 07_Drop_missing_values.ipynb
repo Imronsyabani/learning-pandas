{
 "cells": [
  {
   "cell_type": "code",
   "execution_count": 43,
   "metadata": {},
   "outputs": [
    {
     "name": "stdout",
     "output_type": "stream",
     "text": [
      "             Z         B         C         D\n",
      "0   PeFeonHsDO  0.702207  0.429856 -0.541131\n",
      "1   LPywVPm0Fv  1.013742 -0.313735 -0.424900\n",
      "2   oYKBynx649 -1.272244  0.101660  1.218262\n",
      "3   zrx9A8607z       NaN  0.105684  1.056886\n",
      "4   tyBKbaJhNL -1.565713  0.169076 -0.144023\n",
      "5   ah1nVOLNKa -1.054366  0.790230 -0.036634\n",
      "6   PEEVYrEyKy  0.503749 -0.543660  0.282918\n",
      "7   EsdVKFqnBp  0.451602       NaN  0.245214\n",
      "8   tE6WTuPjrV  1.132883  0.903775  0.454594\n",
      "9   DMVJ1omS8C       NaN -1.257061 -0.826172\n",
      "10  T4BqPLi9rp -0.443220  0.130274 -1.270796\n",
      "11  bSqaCCOxfn -1.481596  1.257749  0.724760\n",
      "12  0aXYXhtwl2  0.785548 -1.915880 -0.436904\n",
      "13  RRuh2vAVDk -0.742359  0.187408  1.731764\n",
      "14  GiPVxNnSJs -0.028103  0.398318  0.784202\n",
      "15  RrGS4e6skF -0.762539 -0.505957 -0.234877\n",
      "16  cXapAojiVM  0.349148  0.481199 -0.292197\n",
      "17  8IPixLA74Z -1.705184 -1.470828  1.014897\n",
      "18  aY9hFXGuxP  1.921757  1.122996 -1.200769\n",
      "19  QjHkJgrNCD  0.024839 -0.015353 -0.113256\n",
      "20  c1xwhgOW1K  0.002459 -0.853394       NaN\n",
      "21  AoORlN03Le -0.526182  2.348066 -0.003258\n",
      "22  eFHmAI5BMT  1.601364  0.729542 -0.639811\n",
      "23  CfXbS4ZGr1  0.388713       NaN -0.940606\n",
      "24  FCY5jbjWuu  0.803354 -0.386092  1.214400\n",
      "25  Ul4AkDHnEr  0.439348  0.102487  0.022824\n",
      "26  JLrUmouLzR -0.614735  0.265962 -0.806663\n",
      "27  J0cA6cWQtS  1.167026  0.605184       NaN\n",
      "28  Yjc2jnsZU2  1.735529  0.033103  0.447310\n",
      "29  HDZbha1pb2 -1.396109       NaN  0.084991\n"
     ]
    }
   ],
   "source": [
    "import pandas as pd\n",
    "import pandas._testing as tm\n",
    "\n",
    "df = tm.makeMissingDataframe().reset_index()\n",
    "df.head()\n",
    "df = df.rename(columns={'index':'Z'})\n",
    "df.head()\n",
    "df_backup = df.copy(deep=True)\n",
    "#dropna berfungsi untuk menghapus kolom (axis='columns') yang mengandung missing value atau NaN\n",
    "# print(df_backup.dropna(axis='columns'))\n",
    "\n",
    "#dropna berfungsi untuk menghapus baris (axis='rows') yang mengandung missing value atau NaN\n",
    "# print(df_backup.dropna(axis='rows'))\n",
    "\n",
    "#method isna() return True Jika value tersebut bernilai NaN atau missing values\n",
    "#method mean() return angka (float) / persentase dari kolom tersebut yang mengandung missing values atau NaN \n",
    "# print(df_backup.isna().mean())\n",
    "\n",
    "#set ambang batas berapa persen kah dari kolom yang mengandung missing values\n",
    "treshold = len(df_backup) * 0.9\n",
    "#parameter thresh berfungsi untuk mengatur ambang batas persen missing values\n",
    "print(df_backup.dropna(thresh=treshold, axis='columns'))"
   ]
  }
 ],
 "metadata": {
  "kernelspec": {
   "display_name": "Python 3.8.10 ('env': venv)",
   "language": "python",
   "name": "python3"
  },
  "language_info": {
   "codemirror_mode": {
    "name": "ipython",
    "version": 3
   },
   "file_extension": ".py",
   "mimetype": "text/x-python",
   "name": "python",
   "nbconvert_exporter": "python",
   "pygments_lexer": "ipython3",
   "version": "3.8.10"
  },
  "orig_nbformat": 4,
  "vscode": {
   "interpreter": {
    "hash": "3a6ac99d405ea7adc689db70b6bfdd43dde2d8e994850a43d72c974ee7b3e8b5"
   }
  }
 },
 "nbformat": 4,
 "nbformat_minor": 2
}
