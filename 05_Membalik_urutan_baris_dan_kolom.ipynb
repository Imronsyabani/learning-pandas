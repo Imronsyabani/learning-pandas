{
 "cells": [
  {
   "cell_type": "code",
   "execution_count": 15,
   "metadata": {},
   "outputs": [
    {
     "name": "stdout",
     "output_type": "stream",
     "text": [
      "   E  D  C  B  A\n",
      "4  3  1  1  2  6\n",
      "3  1  8  3  2  8\n",
      "2  7  3  6  2  8\n"
     ]
    }
   ],
   "source": [
    "import pandas as pd\n",
    "import numpy as np\n",
    "\n",
    "n_rows = 5\n",
    "n_cols = 5\n",
    "cols = ('A','B','C','D','E')\n",
    "df = pd.DataFrame(np.random.randint(1,10,size=(n_cols,n_rows)),columns=cols)\n",
    "# param pertama itu row dan param kedua itu col\n",
    "print(df.loc[:2:-1, ::-1])"
   ]
  }
 ],
 "metadata": {
  "kernelspec": {
   "display_name": "Python 3.8.10 ('env': venv)",
   "language": "python",
   "name": "python3"
  },
  "language_info": {
   "codemirror_mode": {
    "name": "ipython",
    "version": 3
   },
   "file_extension": ".py",
   "mimetype": "text/x-python",
   "name": "python",
   "nbconvert_exporter": "python",
   "pygments_lexer": "ipython3",
   "version": "3.8.10"
  },
  "orig_nbformat": 4,
  "vscode": {
   "interpreter": {
    "hash": "3a6ac99d405ea7adc689db70b6bfdd43dde2d8e994850a43d72c974ee7b3e8b5"
   }
  }
 },
 "nbformat": 4,
 "nbformat_minor": 2
}
