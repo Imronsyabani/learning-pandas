{
 "cells": [
  {
   "cell_type": "code",
   "execution_count": 6,
   "metadata": {},
   "outputs": [
    {
     "name": "stdout",
     "output_type": "stream",
     "text": [
      "   TK  B  Hobi  D  E\n",
      "0   2  3     1  9  2\n",
      "1   8  9     8  3  6\n",
      "2   2  8     6  2  2\n",
      "3   8  7     1  4  7\n",
      "4   9  5     6  5  2\n"
     ]
    }
   ],
   "source": [
    "import pandas as pd\n",
    "import numpy as np\n",
    "n_rows = 5\n",
    "n_cols = 5\n",
    "cols = tuple('ABCDE')\n",
    "df = pd.DataFrame(np.random.randint(1,10,size=(n_rows,n_cols)),columns=cols)\n",
    "print(df.rename(columns={'C':'Hobi','A':'TK'}))"
   ]
  }
 ],
 "metadata": {
  "kernelspec": {
   "display_name": "Python 3.8.10 ('env': venv)",
   "language": "python",
   "name": "python3"
  },
  "language_info": {
   "codemirror_mode": {
    "name": "ipython",
    "version": 3
   },
   "file_extension": ".py",
   "mimetype": "text/x-python",
   "name": "python",
   "nbconvert_exporter": "python",
   "pygments_lexer": "ipython3",
   "version": "3.8.10"
  },
  "orig_nbformat": 4,
  "vscode": {
   "interpreter": {
    "hash": "3a6ac99d405ea7adc689db70b6bfdd43dde2d8e994850a43d72c974ee7b3e8b5"
   }
  }
 },
 "nbformat": 4,
 "nbformat_minor": 2
}
